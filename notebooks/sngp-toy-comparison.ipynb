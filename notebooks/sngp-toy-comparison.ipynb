{
 "cells": [
  {
   "cell_type": "code",
   "execution_count": 1,
   "metadata": {},
   "outputs": [
    {
     "name": "stdout",
     "output_type": "stream",
     "text": [
      "CUDA available: True\n"
     ]
    }
   ],
   "source": [
    "import sys\n",
    "import torch\n",
    "sys.path.append('/cluster/tufts/hugheslab/swilli26/SNGP-IMPLEMENTATION/src')\n",
    "from sklearn import metrics\n",
    "import numpy as np\n",
    "import math\n",
    "\n",
    "import losses\n",
    "from models import StandardThreeLayerDNN, SNGPThreeLayerDNN, RandomFeatureGaussianProcess, ResFFN12_128, SNGP_ResFFN12_128\n",
    "from utils import train_model, create_moons_data_loaders, get_data_from_loader, apply_bounded_spectral_norm, compute_covariance\n",
    "from viz_utils import display_data_splits, plot_loss, plot_preds, plot_probas_over_dense_grid, plot_probabilities, plot_probabilities_gp, plot_thresholded_predictions\n",
    "import torch\n",
    "print(\"CUDA available:\", torch.cuda.is_available())"
   ]
  },
  {
   "cell_type": "markdown",
   "metadata": {},
   "source": [
    "# **SNGP TOY EXAMPLE:**"
   ]
  },
  {
   "cell_type": "code",
   "execution_count": 2,
   "metadata": {},
   "outputs": [],
   "source": [
    "train_loader, val_loader, test_loader = create_moons_data_loaders(3000, 3000)\n",
    "display_data_splits(train_loader, val_loader, test_loader)"
   ]
  },
  {
   "cell_type": "code",
   "execution_count": 3,
   "metadata": {},
   "outputs": [
    {
     "name": "stderr",
     "output_type": "stream",
     "text": [
      "100%|██████████| 101/101 [00:03<00:00, 29.54it/s, tr_xent=0.257, tr_err=0.075, va_xent=0.287, va_err=0.0883, batch_done=1]"
     ]
    },
    {
     "name": "stdout",
     "output_type": "stream",
     "text": [
      "Finished after epoch 100, best epoch=100\n"
     ]
    },
    {
     "name": "stderr",
     "output_type": "stream",
     "text": [
      "\n"
     ]
    }
   ],
   "source": [
    "input_size = 2\n",
    "output_size = 2\n",
    "hidden_size = 64\n",
    "\n",
    "model = StandardThreeLayerDNN(input_size=input_size, hidden_size=hidden_size, output_size=output_size)\n",
    "# apply_bounded_spectral_norm(model, name='weight', spec_norm_iteration=15, spec_norm_bound=1.0)\n",
    "# summary(model, input_size=(1, 2))\n",
    "\n",
    "model, info = train_model(model, 'cuda', train_loader, val_loader, losses, n_epochs=100, lr=0.1, do_early_stopping=True, model_filename=\"/cluster/tufts/hugheslab/swilli26/SNGP-IMPLEMENTATION/results/models/best_model.pth\")"
   ]
  },
  {
   "cell_type": "code",
   "execution_count": 8,
   "metadata": {},
   "outputs": [
    {
     "name": "stdout",
     "output_type": "stream",
     "text": [
      "torch.Size([160000, 2])\n"
     ]
    }
   ],
   "source": [
    "%reload_ext autoreload\n",
    "plot_probabilities(model, test_loader, device='cuda')"
   ]
  },
  {
   "cell_type": "code",
   "execution_count": 12,
   "metadata": {},
   "outputs": [],
   "source": [
    "%reload_ext autoreload\n",
    "from models import RandomFeatureGaussianProcess\n",
    "\n",
    "input_size = 2\n",
    "output_size = 2\n",
    "\n",
    "sngp_model = RandomFeatureGaussianProcess(in_features=input_size, out_features=output_size, rank=1_024, lengthscale=0.1, outputscale=0.5)"
   ]
  },
  {
   "cell_type": "code",
   "execution_count": 13,
   "metadata": {},
   "outputs": [
    {
     "name": "stderr",
     "output_type": "stream",
     "text": [
      "100%|██████████| 1001/1001 [00:24<00:00, 41.39it/s, tr_xent=0.072, tr_err=0.00111, va_xent=0.0842, va_err=0.00167, batch_done=1]\n"
     ]
    },
    {
     "name": "stdout",
     "output_type": "stream",
     "text": [
      "Finished after epoch 1000, best epoch=1000\n"
     ]
    }
   ],
   "source": [
    "sngp_model, new_info = train_model(sngp_model, 'cuda', train_loader, val_loader, losses, n_epochs=1_000, lr=2.0, do_early_stopping=True)\n",
    "plot_loss(new_info)"
   ]
  },
  {
   "cell_type": "code",
   "execution_count": 14,
   "metadata": {},
   "outputs": [
    {
     "ename": "AttributeError",
     "evalue": "'RandomFeatureGaussianProcess' object has no attribute 'update_covariance_from_loader'",
     "output_type": "error",
     "traceback": [
      "\u001b[0;31m---------------------------------------------------------------------------\u001b[0m",
      "\u001b[0;31mAttributeError\u001b[0m                            Traceback (most recent call last)",
      "Input \u001b[0;32mIn [14]\u001b[0m, in \u001b[0;36m<cell line: 2>\u001b[0;34m()\u001b[0m\n\u001b[1;32m      1\u001b[0m get_ipython()\u001b[38;5;241m.\u001b[39mrun_line_magic(\u001b[38;5;124m'\u001b[39m\u001b[38;5;124mreload_ext\u001b[39m\u001b[38;5;124m'\u001b[39m, \u001b[38;5;124m'\u001b[39m\u001b[38;5;124mautoreload\u001b[39m\u001b[38;5;124m'\u001b[39m)\n\u001b[0;32m----> 2\u001b[0m \u001b[43mplot_probabilities_gp\u001b[49m\u001b[43m(\u001b[49m\u001b[43msngp_model\u001b[49m\u001b[43m,\u001b[49m\u001b[43m \u001b[49m\u001b[43mtrain_loader\u001b[49m\u001b[43m,\u001b[49m\u001b[43m \u001b[49m\u001b[43mnum_samples\u001b[49m\u001b[38;5;241;43m=\u001b[39;49m\u001b[38;5;241;43m10_000\u001b[39;49m\u001b[43m,\u001b[49m\u001b[43m \u001b[49m\u001b[43mcompute_covariance\u001b[49m\u001b[38;5;241;43m=\u001b[39;49m\u001b[38;5;28;43;01mTrue\u001b[39;49;00m\u001b[43m,\u001b[49m\u001b[43m \u001b[49m\u001b[43mdevice\u001b[49m\u001b[38;5;241;43m=\u001b[39;49m\u001b[38;5;124;43m'\u001b[39;49m\u001b[38;5;124;43mcuda\u001b[39;49m\u001b[38;5;124;43m'\u001b[39;49m\u001b[43m)\u001b[49m\n",
      "File \u001b[0;32m/cluster/tufts/hugheslab/swilli26/SNGP-IMPLEMENTATION/src/viz_utils.py:294\u001b[0m, in \u001b[0;36mplot_probabilities_gp\u001b[0;34m(model, train_loader, compute_covariance, device, num_samples)\u001b[0m\n\u001b[1;32m    292\u001b[0m \u001b[38;5;28;01mif\u001b[39;00m compute_covariance:\n\u001b[1;32m    293\u001b[0m     model\u001b[38;5;241m.\u001b[39mreinitialize_precision()\n\u001b[0;32m--> 294\u001b[0m     \u001b[43mmodel\u001b[49m\u001b[38;5;241;43m.\u001b[39;49m\u001b[43mupdate_covariance_from_loader\u001b[49m(train_loader, device\u001b[38;5;241m=\u001b[39mdevice)\n\u001b[1;32m    295\u001b[0m covariance \u001b[38;5;241m=\u001b[39m model\u001b[38;5;241m.\u001b[39minvert_covariance()\n\u001b[1;32m    297\u001b[0m preds_list \u001b[38;5;241m=\u001b[39m []\n",
      "File \u001b[0;32m/cluster/tufts/hugheslab/miniconda2/envs/DeepLP/lib/python3.8/site-packages/torch/nn/modules/module.py:1185\u001b[0m, in \u001b[0;36mModule.__getattr__\u001b[0;34m(self, name)\u001b[0m\n\u001b[1;32m   1183\u001b[0m     \u001b[38;5;28;01mif\u001b[39;00m name \u001b[38;5;129;01min\u001b[39;00m modules:\n\u001b[1;32m   1184\u001b[0m         \u001b[38;5;28;01mreturn\u001b[39;00m modules[name]\n\u001b[0;32m-> 1185\u001b[0m \u001b[38;5;28;01mraise\u001b[39;00m \u001b[38;5;167;01mAttributeError\u001b[39;00m(\u001b[38;5;124m\"\u001b[39m\u001b[38;5;124m'\u001b[39m\u001b[38;5;132;01m{}\u001b[39;00m\u001b[38;5;124m'\u001b[39m\u001b[38;5;124m object has no attribute \u001b[39m\u001b[38;5;124m'\u001b[39m\u001b[38;5;132;01m{}\u001b[39;00m\u001b[38;5;124m'\u001b[39m\u001b[38;5;124m\"\u001b[39m\u001b[38;5;241m.\u001b[39mformat(\n\u001b[1;32m   1186\u001b[0m     \u001b[38;5;28mtype\u001b[39m(\u001b[38;5;28mself\u001b[39m)\u001b[38;5;241m.\u001b[39m\u001b[38;5;18m__name__\u001b[39m, name))\n",
      "\u001b[0;31mAttributeError\u001b[0m: 'RandomFeatureGaussianProcess' object has no attribute 'update_covariance_from_loader'"
     ]
    }
   ],
   "source": [
    "%reload_ext autoreload\n",
    "plot_probabilities_gp(sngp_model, train_loader, num_samples=10_000, compute_covariance=True, device='cuda')"
   ]
  },
  {
   "cell_type": "code",
   "execution_count": 8,
   "metadata": {},
   "outputs": [],
   "source": [
    "%reload_ext autoreload\n",
    "preds_file = \"preds.pt\"\n",
    "plot_thresholded_predictions(preds_file, test_loader, threshold=0.5)"
   ]
  },
  {
   "cell_type": "code",
   "execution_count": 9,
   "metadata": {},
   "outputs": [],
   "source": [
    "%reload_ext autoreload\n",
    "preds_file = \"preds.pt\"\n",
    "plot_thresholded_predictions(preds_file, test_loader, threshold=0.6)"
   ]
  },
  {
   "cell_type": "code",
   "execution_count": 10,
   "metadata": {},
   "outputs": [],
   "source": [
    "%reload_ext autoreload\n",
    "preds_file = \"preds.pt\"\n",
    "plot_thresholded_predictions(preds_file, test_loader, threshold=0.65)"
   ]
  },
  {
   "cell_type": "code",
   "execution_count": 11,
   "metadata": {},
   "outputs": [],
   "source": [
    "%reload_ext autoreload\n",
    "preds_file = \"preds.pt\"\n",
    "plot_thresholded_predictions(preds_file, test_loader, threshold=0.70)"
   ]
  },
  {
   "cell_type": "code",
   "execution_count": null,
   "metadata": {},
   "outputs": [],
   "source": []
  },
  {
   "cell_type": "code",
   "execution_count": null,
   "metadata": {},
   "outputs": [],
   "source": []
  }
 ],
 "metadata": {
  "kernelspec": {
   "display_name": "DeepLP",
   "language": "python",
   "name": "python3"
  },
  "language_info": {
   "codemirror_mode": {
    "name": "ipython",
    "version": 3
   },
   "file_extension": ".py",
   "mimetype": "text/x-python",
   "name": "python",
   "nbconvert_exporter": "python",
   "pygments_lexer": "ipython3",
   "version": "3.8.13"
  }
 },
 "nbformat": 4,
 "nbformat_minor": 2
}
